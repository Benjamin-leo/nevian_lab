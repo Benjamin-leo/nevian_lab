{
 "cells": [
  {
   "cell_type": "code",
   "execution_count": 3,
   "metadata": {},
   "outputs": [
    {
     "name": "stdout",
     "output_type": "stream",
     "text": [
      "Behavior events saved to behavior_events.csv\n"
     ]
    }
   ],
   "source": [
    "import pandas as pd\n",
    "import numpy as np\n",
    "import matplotlib.pyplot as plt\n",
    "\n",
    "# Load the CSV file into a DataFrame\n",
    "data_path = r'C:\\Users\\huang\\codes\\nevian_lab\\Magdalena_fp\\C204M1 social_labels.csv'  # Update this to your actual file path\n",
    "data = pd.read_csv(data_path)\n",
    "\n",
    "# List of behavior columns in your dataset\n",
    "behavior_columns = ['background', 'approach', 'nose-nose', 'nose-tail', 'general', 'fight']\n",
    "\n",
    "# Initialize a list to hold onset and offset data for each behavior\n",
    "behavior_events = []\n",
    "\n",
    "# Iterate over each behavior column to find changes\n",
    "for col in behavior_columns:\n",
    "    # Find where behavior starts (0 to 1 transition)\n",
    "    onset_indices = data.index[data[col].diff() == 1].tolist()\n",
    "    # Find where behavior ends (1 to 0 transition)\n",
    "    offset_indices = data.index[data[col].diff() == -1].tolist()\n",
    "    \n",
    "    # Adjusting for behaviors starting at the first row or not ending by the last row\n",
    "    if data[col].iloc[0] == 1:\n",
    "        onset_indices = [0] + onset_indices\n",
    "    if data[col].iloc[-1] == 1:\n",
    "        offset_indices = offset_indices + [data.index[-1]]\n",
    "    \n",
    "    # Combine onset and offset indices for the current behavior\n",
    "    for start, end in zip(onset_indices, offset_indices):\n",
    "        behavior_events.append({\n",
    "            'Behavior': col,\n",
    "            'Onset': start,\n",
    "            'Offset': end\n",
    "        })\n",
    "\n",
    "# Convert the list of behavior events to a DataFrame\n",
    "behavior_events_df = pd.DataFrame(behavior_events)\n",
    "\n",
    "# Define the path for the new CSV file\n",
    "output_path = 'behavior_events.csv'  # Update this to your desired output path\n",
    "\n",
    "# Save the behavior events DataFrame to a CSV file\n",
    "behavior_events_df.to_csv(output_path, index=False)\n",
    "\n",
    "print(f'Behavior events saved to {output_path}')\n"
   ]
  },
  {
   "cell_type": "code",
   "execution_count": null,
   "metadata": {},
   "outputs": [],
   "source": []
  }
 ],
 "metadata": {
  "kernelspec": {
   "display_name": "base",
   "language": "python",
   "name": "python3"
  },
  "language_info": {
   "codemirror_mode": {
    "name": "ipython",
    "version": 3
   },
   "file_extension": ".py",
   "mimetype": "text/x-python",
   "name": "python",
   "nbconvert_exporter": "python",
   "pygments_lexer": "ipython3",
   "version": "3.10.12"
  }
 },
 "nbformat": 4,
 "nbformat_minor": 2
}
