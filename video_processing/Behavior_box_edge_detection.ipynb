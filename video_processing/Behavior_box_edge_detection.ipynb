{
 "cells": [
  {
   "cell_type": "code",
   "execution_count": 1,
   "id": "3c104185",
   "metadata": {},
   "outputs": [],
   "source": [
    "image_path = r'H:\\DANNCE\\6cam_behavior\\topviewcam\\mp4\\322.png'"
   ]
  },
  {
   "cell_type": "code",
   "execution_count": 5,
   "id": "f1a0b58d",
   "metadata": {},
   "outputs": [],
   "source": [
    "import cv2\n",
    "import numpy as np\n",
    "\n",
    "drawing = False\n",
    "top_left_pt, bottom_right_pt = None, None\n",
    "\n",
    "def draw_rectangle(event, x, y, flags, param):\n",
    "    global drawing, top_left_pt, bottom_right_pt\n",
    "\n",
    "    if event == cv2.EVENT_LBUTTONDOWN:\n",
    "        drawing = True\n",
    "        top_left_pt = (x, y)\n",
    "\n",
    "    elif event == cv2.EVENT_LBUTTONUP:\n",
    "        drawing = False\n",
    "        bottom_right_pt = (x, y)\n",
    "        cv2.rectangle(img, top_left_pt, bottom_right_pt, (0, 0, 255), 2)\n",
    "        cv2.imshow('Image', img)\n",
    "\n",
    "        # Process the region inside the rectangle with Sobel operator\n",
    "        apply_sobel(top_left_pt, bottom_right_pt)\n",
    "\n",
    "def apply_sobel(top_left, bottom_right):\n",
    "    roi = img[top_left[1]:bottom_right[1], top_left[0]:bottom_right[0]]\n",
    "    gray = cv2.cvtColor(roi, cv2.COLOR_BGR2GRAY)\n",
    "    \n",
    "    sobel_x = cv2.Sobel(gray, cv2.CV_64F, 1, 0, ksize=3)\n",
    "    sobel_y = cv2.Sobel(gray, cv2.CV_64F, 0, 1, ksize=3)\n",
    "    \n",
    "    combined_sobel = np.sqrt(sobel_x**2 + sobel_y**2)\n",
    "    normalized_sobel = cv2.normalize(combined_sobel, None, 0, 255, cv2.NORM_MINMAX, cv2.CV_8U)\n",
    "    \n",
    "    # Display the Sobel transformed image\n",
    "    cv2.imshow('Sobel Transformed', normalized_sobel)\n",
    "\n",
    "img = cv2.imread(image_path)\n",
    "cv2.namedWindow('Image')\n",
    "cv2.setMouseCallback('Image', draw_rectangle)\n",
    "\n",
    "while True:\n",
    "    cv2.imshow('Image', img)\n",
    "    if cv2.waitKey(1) & 0xFF == ord('q'):\n",
    "        break\n",
    "\n",
    "cv2.destroyAllWindows()\n"
   ]
  },
  {
   "cell_type": "code",
   "execution_count": null,
   "id": "30858ab7",
   "metadata": {},
   "outputs": [],
   "source": []
  },
  {
   "cell_type": "code",
   "execution_count": null,
   "id": "b84819eb",
   "metadata": {},
   "outputs": [],
   "source": []
  },
  {
   "cell_type": "code",
   "execution_count": null,
   "id": "81fc2e67",
   "metadata": {},
   "outputs": [],
   "source": []
  },
  {
   "cell_type": "code",
   "execution_count": null,
   "id": "086fb9e0",
   "metadata": {},
   "outputs": [],
   "source": []
  }
 ],
 "metadata": {
  "kernelspec": {
   "display_name": "Python 3 (ipykernel)",
   "language": "python",
   "name": "python3"
  },
  "language_info": {
   "codemirror_mode": {
    "name": "ipython",
    "version": 3
   },
   "file_extension": ".py",
   "mimetype": "text/x-python",
   "name": "python",
   "nbconvert_exporter": "python",
   "pygments_lexer": "ipython3",
   "version": "3.10.12"
  }
 },
 "nbformat": 4,
 "nbformat_minor": 5
}
